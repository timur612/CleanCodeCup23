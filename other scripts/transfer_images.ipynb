{
 "cells": [
  {
   "cell_type": "code",
   "execution_count": 1,
   "metadata": {},
   "outputs": [
    {
     "name": "stderr",
     "output_type": "stream",
     "text": [
      "<ipython-input-1-daa88f1124fc>:8: TqdmExperimentalWarning: Using `tqdm.autonotebook.tqdm` in notebook mode. Use `tqdm.tqdm` instead to force console mode (e.g. in jupyter console)\n",
      "  from tqdm.autonotebook import tqdm, trange\n"
     ]
    }
   ],
   "source": [
    "%matplotlib inline\n",
    "\n",
    "import pandas as pd\n",
    "import numpy as np\n",
    "import re\n",
    "import os\n",
    "import shutil\n",
    "from tqdm.autonotebook import tqdm, trange\n",
    "\n",
    "from IPython.display import Image, display\n",
    "\n",
    "import matplotlib.pyplot as plt\n",
    "import matplotlib.image as mpimg"
   ]
  },
  {
   "cell_type": "code",
   "execution_count": 179,
   "metadata": {},
   "outputs": [],
   "source": [
    "classes = pd.read_csv('classes.csv')\n",
    "classes.drop('Unnamed: 0', axis=1, inplace=True)\n",
    "data = pd.read_csv('train.csv')\n",
    "# data.drop('Unnamed: 0', axis=1, inplace=True)"
   ]
  },
  {
   "cell_type": "code",
   "execution_count": 23,
   "metadata": {},
   "outputs": [
    {
     "data": {
      "text/html": [
       "<div>\n",
       "<style scoped>\n",
       "    .dataframe tbody tr th:only-of-type {\n",
       "        vertical-align: middle;\n",
       "    }\n",
       "\n",
       "    .dataframe tbody tr th {\n",
       "        vertical-align: top;\n",
       "    }\n",
       "\n",
       "    .dataframe thead th {\n",
       "        text-align: right;\n",
       "    }\n",
       "</style>\n",
       "<table border=\"1\" class=\"dataframe\">\n",
       "  <thead>\n",
       "    <tr style=\"text-align: right;\">\n",
       "      <th></th>\n",
       "      <th>class_id</th>\n",
       "      <th>image</th>\n",
       "    </tr>\n",
       "  </thead>\n",
       "  <tbody>\n",
       "    <tr>\n",
       "      <th>0</th>\n",
       "      <td>1221</td>\n",
       "      <td>3kVLfN1tTupzPhFgWY0yeOnqoD6RwG57HlSMvBK4.jpg</td>\n",
       "    </tr>\n",
       "    <tr>\n",
       "      <th>1</th>\n",
       "      <td>1209</td>\n",
       "      <td>p5FeqKS7BHknQM4OvbzZs60giLthaCW83VGDx1Y9.jpg</td>\n",
       "    </tr>\n",
       "    <tr>\n",
       "      <th>2</th>\n",
       "      <td>865</td>\n",
       "      <td>3GHsrhop0FJ58EBjLDgQed2NvI4UK1ybZRAuTl6n.jpg</td>\n",
       "    </tr>\n",
       "    <tr>\n",
       "      <th>3</th>\n",
       "      <td>1222</td>\n",
       "      <td>DqoLbEG8A9lJCaR7ucOdiP05rXxyjg4WwMSh2VFs.jpg</td>\n",
       "    </tr>\n",
       "    <tr>\n",
       "      <th>4</th>\n",
       "      <td>542</td>\n",
       "      <td>TV1zBo5gLt34i76pAFya90HuJWNjkZSCwbKDevnO.jpg</td>\n",
       "    </tr>\n",
       "  </tbody>\n",
       "</table>\n",
       "</div>"
      ],
      "text/plain": [
       "   class_id                                         image\n",
       "0      1221  3kVLfN1tTupzPhFgWY0yeOnqoD6RwG57HlSMvBK4.jpg\n",
       "1      1209  p5FeqKS7BHknQM4OvbzZs60giLthaCW83VGDx1Y9.jpg\n",
       "2       865  3GHsrhop0FJ58EBjLDgQed2NvI4UK1ybZRAuTl6n.jpg\n",
       "3      1222  DqoLbEG8A9lJCaR7ucOdiP05rXxyjg4WwMSh2VFs.jpg\n",
       "4       542  TV1zBo5gLt34i76pAFya90HuJWNjkZSCwbKDevnO.jpg"
      ]
     },
     "execution_count": 23,
     "metadata": {},
     "output_type": "execute_result"
    }
   ],
   "source": [
    "data.head()"
   ]
  },
  {
   "cell_type": "code",
   "execution_count": 47,
   "metadata": {},
   "outputs": [
    {
     "data": {
      "text/plain": [
       "0          0\n",
       "1          1\n",
       "2          2\n",
       "3          3\n",
       "4          4\n",
       "        ... \n",
       "4391    4391\n",
       "4392    4392\n",
       "4393    4393\n",
       "4394    4394\n",
       "4395    4395\n",
       "Name: id, Length: 4396, dtype: int64"
      ]
     },
     "execution_count": 47,
     "metadata": {},
     "output_type": "execute_result"
    }
   ],
   "source": [
    "classes['id']"
   ]
  },
  {
   "cell_type": "code",
   "execution_count": 3,
   "metadata": {},
   "outputs": [],
   "source": [
    "data = data.sort_values(by=['class_id'])"
   ]
  },
  {
   "cell_type": "code",
   "execution_count": 48,
   "metadata": {},
   "outputs": [],
   "source": [
    "exist_class = []\n",
    "for class_id in classes.id:\n",
    "    for id in data.class_id:\n",
    "        if class_id == id and class_id not in exist_class:\n",
    "            exist_class.append(class_id)"
   ]
  },
  {
   "cell_type": "code",
   "execution_count": 50,
   "metadata": {},
   "outputs": [
    {
     "data": {
      "text/plain": [
       "4325"
      ]
     },
     "execution_count": 50,
     "metadata": {},
     "output_type": "execute_result"
    }
   ],
   "source": [
    "len(exist_class)"
   ]
  },
  {
   "cell_type": "code",
   "execution_count": 70,
   "metadata": {},
   "outputs": [],
   "source": [
    "for id in data.class_id:\n",
    "    if(not os.path.exists(f\"images/images/{data[data['class_id'] == id].image.values[0]}\")):\n",
    "        print(f\"{data[data['class_id'] == id].class_id.values[0]}\")"
   ]
  },
  {
   "cell_type": "markdown",
   "metadata": {},
   "source": [
    "## Убираю ненужные классы"
   ]
  },
  {
   "cell_type": "code",
   "execution_count": 180,
   "metadata": {},
   "outputs": [],
   "source": [
    "class_distribution = classes.groupby('brand', as_index=False).count().drop('model', axis=1)\n",
    "class_distribution.rename({'id': 'count'}, axis='columns', inplace=True)\n",
    "class_distribution = class_distribution.sort_values(by=['count'])\n",
    "brands = class_distribution[class_distribution['count'] > 4].brand\n",
    "brands = brands.tolist()"
   ]
  },
  {
   "cell_type": "code",
   "execution_count": 181,
   "metadata": {},
   "outputs": [
    {
     "data": {
      "text/plain": [
       "['unbranded',\n",
       " 'yeezy',\n",
       " 'onitsuka tiger',\n",
       " 'jordan',\n",
       " 'vans',\n",
       " 'new balance',\n",
       " 'puma',\n",
       " 'adidas',\n",
       " 'nike',\n",
       " 'asics',\n",
       " 'reebok',\n",
       " 'mizuno']"
      ]
     },
     "execution_count": 181,
     "metadata": {},
     "output_type": "execute_result"
    }
   ],
   "source": [
    "brands"
   ]
  },
  {
   "cell_type": "code",
   "execution_count": 182,
   "metadata": {},
   "outputs": [],
   "source": [
    "brands = [r'unbranded*',\n",
    " r'yeezy*',\n",
    " r'onitsuka tiger*',\n",
    " r'jordan*',\n",
    " r'vans*',\n",
    " r'new balance*',\n",
    " r'puma*',\n",
    " r'adidas*',\n",
    " r'nike*',\n",
    " r'asics*',\n",
    " r'reebok*',\n",
    " r'mizuno*']"
   ]
  },
  {
   "cell_type": "code",
   "execution_count": 183,
   "metadata": {},
   "outputs": [],
   "source": [
    "classes['model'] = classes['model'].replace(brands,['','','','','','','','','','','',''],regex=True)\n",
    "classes['model'] = classes['model'].apply(lambda x: re.sub(r'[^\\w\\s]', '', x).strip())\n",
    "classes['model'] = classes['model'].apply(lambda x: re.sub(r'\\s+', ' ', x))"
   ]
  },
  {
   "cell_type": "code",
   "execution_count": 198,
   "metadata": {},
   "outputs": [
    {
     "data": {
      "text/html": [
       "<div>\n",
       "<style scoped>\n",
       "    .dataframe tbody tr th:only-of-type {\n",
       "        vertical-align: middle;\n",
       "    }\n",
       "\n",
       "    .dataframe tbody tr th {\n",
       "        vertical-align: top;\n",
       "    }\n",
       "\n",
       "    .dataframe thead th {\n",
       "        text-align: right;\n",
       "    }\n",
       "</style>\n",
       "<table border=\"1\" class=\"dataframe\">\n",
       "  <thead>\n",
       "    <tr style=\"text-align: right;\">\n",
       "      <th></th>\n",
       "      <th>brand</th>\n",
       "      <th>model</th>\n",
       "      <th>id</th>\n",
       "    </tr>\n",
       "  </thead>\n",
       "  <tbody>\n",
       "    <tr>\n",
       "      <th>3939</th>\n",
       "      <td>yeezy</td>\n",
       "      <td>500</td>\n",
       "      <td>2744</td>\n",
       "    </tr>\n",
       "    <tr>\n",
       "      <th>3940</th>\n",
       "      <td>yeezy</td>\n",
       "      <td>boost 350 v2</td>\n",
       "      <td>730;4099</td>\n",
       "    </tr>\n",
       "    <tr>\n",
       "      <th>3941</th>\n",
       "      <td>yeezy</td>\n",
       "      <td>foam rnnr</td>\n",
       "      <td>769</td>\n",
       "    </tr>\n",
       "    <tr>\n",
       "      <th>3942</th>\n",
       "      <td>yeezy</td>\n",
       "      <td>slide pure</td>\n",
       "      <td>706</td>\n",
       "    </tr>\n",
       "  </tbody>\n",
       "</table>\n",
       "</div>"
      ],
      "text/plain": [
       "      brand         model        id\n",
       "3939  yeezy           500      2744\n",
       "3940  yeezy  boost 350 v2  730;4099\n",
       "3941  yeezy     foam rnnr       769\n",
       "3942  yeezy    slide pure       706"
      ]
     },
     "execution_count": 198,
     "metadata": {},
     "output_type": "execute_result"
    }
   ],
   "source": [
    "class_model = classes.groupby(['brand', 'model'])['id'].apply(lambda x: ';'.join(map(str, x))).reset_index()\n",
    "class_model[class_model['brand'] == 'yeezy']"
   ]
  },
  {
   "cell_type": "code",
   "execution_count": 94,
   "metadata": {},
   "outputs": [
    {
     "data": {
      "text/html": [
       "<div>\n",
       "<style scoped>\n",
       "    .dataframe tbody tr th:only-of-type {\n",
       "        vertical-align: middle;\n",
       "    }\n",
       "\n",
       "    .dataframe tbody tr th {\n",
       "        vertical-align: top;\n",
       "    }\n",
       "\n",
       "    .dataframe thead th {\n",
       "        text-align: right;\n",
       "    }\n",
       "</style>\n",
       "<table border=\"1\" class=\"dataframe\">\n",
       "  <thead>\n",
       "    <tr style=\"text-align: right;\">\n",
       "      <th></th>\n",
       "      <th>brand</th>\n",
       "      <th>model</th>\n",
       "      <th>id</th>\n",
       "    </tr>\n",
       "  </thead>\n",
       "  <tbody>\n",
       "    <tr>\n",
       "      <th>46</th>\n",
       "      <td>new balance</td>\n",
       "      <td></td>\n",
       "      <td>46</td>\n",
       "    </tr>\n",
       "    <tr>\n",
       "      <th>450</th>\n",
       "      <td>puma</td>\n",
       "      <td></td>\n",
       "      <td>450</td>\n",
       "    </tr>\n",
       "    <tr>\n",
       "      <th>740</th>\n",
       "      <td>adidas</td>\n",
       "      <td></td>\n",
       "      <td>740</td>\n",
       "    </tr>\n",
       "    <tr>\n",
       "      <th>813</th>\n",
       "      <td>vans</td>\n",
       "      <td></td>\n",
       "      <td>813</td>\n",
       "    </tr>\n",
       "    <tr>\n",
       "      <th>839</th>\n",
       "      <td>rick owens</td>\n",
       "      <td></td>\n",
       "      <td>839</td>\n",
       "    </tr>\n",
       "    <tr>\n",
       "      <th>1218</th>\n",
       "      <td>reebok</td>\n",
       "      <td></td>\n",
       "      <td>1218</td>\n",
       "    </tr>\n",
       "    <tr>\n",
       "      <th>1516</th>\n",
       "      <td>mizuno</td>\n",
       "      <td></td>\n",
       "      <td>1516</td>\n",
       "    </tr>\n",
       "    <tr>\n",
       "      <th>1916</th>\n",
       "      <td>asics</td>\n",
       "      <td></td>\n",
       "      <td>1916</td>\n",
       "    </tr>\n",
       "    <tr>\n",
       "      <th>2930</th>\n",
       "      <td>jordan</td>\n",
       "      <td></td>\n",
       "      <td>2930</td>\n",
       "    </tr>\n",
       "    <tr>\n",
       "      <th>4061</th>\n",
       "      <td>nike</td>\n",
       "      <td></td>\n",
       "      <td>4061</td>\n",
       "    </tr>\n",
       "  </tbody>\n",
       "</table>\n",
       "</div>"
      ],
      "text/plain": [
       "            brand model    id\n",
       "46    new balance          46\n",
       "450          puma         450\n",
       "740        adidas         740\n",
       "813          vans         813\n",
       "839    rick owens         839\n",
       "1218       reebok        1218\n",
       "1516       mizuno        1516\n",
       "1916        asics        1916\n",
       "2930       jordan        2930\n",
       "4061         nike        4061"
      ]
     },
     "execution_count": 94,
     "metadata": {},
     "output_type": "execute_result"
    }
   ],
   "source": [
    "class_model[class_model['model'] == '']"
   ]
  },
  {
   "cell_type": "code",
   "execution_count": 101,
   "metadata": {},
   "outputs": [
    {
     "data": {
      "text/plain": [
       "0          0\n",
       "1          1\n",
       "2          2\n",
       "3          3\n",
       "5          5\n",
       "        ... \n",
       "4391    4391\n",
       "4392    4392\n",
       "4393    4393\n",
       "4394    4394\n",
       "4395    4395\n",
       "Name: id, Length: 3943, dtype: int64"
      ]
     },
     "execution_count": 101,
     "metadata": {},
     "output_type": "execute_result"
    }
   ],
   "source": [
    "class_model.id"
   ]
  },
  {
   "cell_type": "code",
   "execution_count": 200,
   "metadata": {},
   "outputs": [
    {
     "data": {
      "text/plain": [
       "3881"
      ]
     },
     "execution_count": 200,
     "metadata": {},
     "output_type": "execute_result"
    }
   ],
   "source": [
    "len(classes_dict.keys())"
   ]
  },
  {
   "cell_type": "code",
   "execution_count": 206,
   "metadata": {},
   "outputs": [
    {
     "name": "stdout",
     "output_type": "stream",
     "text": [
      "876\n"
     ]
    }
   ],
   "source": [
    "sss = 0\n",
    "for x in class_model.id:\n",
    "    if ';' in str(x):\n",
    "        sss+=len(x.split(';'))\n",
    "print(sss)"
   ]
  },
  {
   "cell_type": "code",
   "execution_count": 178,
   "metadata": {},
   "outputs": [
    {
     "data": {
      "text/plain": [
       "252"
      ]
     },
     "execution_count": 178,
     "metadata": {},
     "output_type": "execute_result"
    }
   ],
   "source": [
    "len(ones_class)"
   ]
  },
  {
   "cell_type": "markdown",
   "metadata": {},
   "source": [
    "## Разделение фоток по папкам их класса для train"
   ]
  },
  {
   "cell_type": "code",
   "execution_count": 199,
   "metadata": {},
   "outputs": [],
   "source": [
    "from collections import defaultdict\n",
    "classes_dict = defaultdict(list)\n",
    "\n",
    "for index, row in data.iterrows():\n",
    "    image_name = row['image']\n",
    "    if row['class_id'] in class_model.id:\n",
    "        classes_dict[row['class_id']].append(image_name)"
   ]
  },
  {
   "cell_type": "code",
   "execution_count": 103,
   "metadata": {},
   "outputs": [],
   "source": [
    "ones_class = []\n",
    "for key in classes_dict:\n",
    "    if len(classes_dict[key]) < 2:\n",
    "        ones_class.append(key)"
   ]
  },
  {
   "cell_type": "code",
   "execution_count": 104,
   "metadata": {},
   "outputs": [
    {
     "data": {
      "application/vnd.jupyter.widget-view+json": {
       "model_id": "a55af2303cca41e6ba70102d77a476d4",
       "version_major": 2,
       "version_minor": 0
      },
      "text/plain": [
       "HBox(children=(FloatProgress(value=0.0, max=47575.0), HTML(value='')))"
      ]
     },
     "metadata": {},
     "output_type": "display_data"
    },
    {
     "name": "stdout",
     "output_type": "stream",
     "text": [
      "\n"
     ]
    }
   ],
   "source": [
    "\n",
    "# Путь к главной папке, содержащей все изображения\n",
    "main_folder_path = 'images/images/'\n",
    "\n",
    "# Создать папки для каждого класса, если они не существуют\n",
    "for class_name in data['class_id'].unique():\n",
    "    if class_name not in ones_class:\n",
    "        class_folder_path = os.path.join(main_folder_path, str(class_name))\n",
    "        if not os.path.exists(class_folder_path):\n",
    "            os.makedirs(class_folder_path)\n",
    "\n",
    "# for class_name in classes_dict.keys():\n",
    "#     if class_name not in ones_class:\n",
    "#         class_folder_path = os.path.join(main_folder_path, str(class_name))\n",
    "#         if not os.path.exists(class_folder_path):\n",
    "#             os.makedirs(class_folder_path)\n",
    "\n",
    "SIZE_DELETE = 1000\n",
    "# Перенести каждую картинку из главной папки в папку класса, если она существует в DataFrame pandas\n",
    "for index, row in tqdm(data.iterrows(),total=data.shape[0]):\n",
    "    image_name = row['image']\n",
    "    class_name = row['class_id']\n",
    "    source_path = os.path.join(main_folder_path, image_name)\n",
    "    if os.path.getsize(source_path) < SIZE_DELETE:\n",
    "        os.remove(source_path)\n",
    "    elif class_name not in ones_class:\n",
    "        dest_folder_path = os.path.join(main_folder_path, str(class_name))\n",
    "        dest_path = os.path.join(dest_folder_path, image_name)\n",
    "        if os.path.exists(source_path):\n",
    "            shutil.move(source_path, dest_path)\n"
   ]
  },
  {
   "cell_type": "code",
   "execution_count": 108,
   "metadata": {},
   "outputs": [
    {
     "data": {
      "application/vnd.jupyter.widget-view+json": {
       "model_id": "1527d7d4a1604d50ad0113f4fe80d60b",
       "version_major": 2,
       "version_minor": 0
      },
      "text/plain": [
       "HBox(children=(FloatProgress(value=0.0, max=47575.0), HTML(value='')))"
      ]
     },
     "metadata": {},
     "output_type": "display_data"
    },
    {
     "name": "stdout",
     "output_type": "stream",
     "text": [
      "\n"
     ]
    }
   ],
   "source": [
    "from pathlib import Path\n",
    "\n",
    "counter_in_folder = []\n",
    "for index, row in tqdm(data.iterrows(),total=data.shape[0]):\n",
    "    folder = Path(f'./images/images/{row[\"class_id\"]}')\n",
    "\n",
    "    if not folder.is_dir():\n",
    "#         raise ValueError(f\"[{folder}] не существует или не является директорией\")\n",
    "        pass\n",
    "    else:\n",
    "        folder_counts = sum(1 for x in folder.iterdir())\n",
    "        counter_in_folder.append([folder_counts, row['class_id']])"
   ]
  },
  {
   "cell_type": "code",
   "execution_count": 170,
   "metadata": {},
   "outputs": [
    {
     "name": "stdout",
     "output_type": "stream",
     "text": [
      "1594 263\n"
     ]
    }
   ],
   "source": [
    "sumAbove = []\n",
    "sumMore = []\n",
    "for counter in counter_in_folder:\n",
    "    if counter[0] < 5 and counter[1] not in sumAbove:\n",
    "        sumAbove.append(counter[1])\n",
    "    elif counter[0] >= 30 and counter[1] not in sumMore:\n",
    "        sumMore.append(counter[1])\n",
    "print(len(sumAbove), len(sumMore))"
   ]
  },
  {
   "cell_type": "markdown",
   "metadata": {},
   "source": [
    "## Разделение трейна на train и val"
   ]
  },
  {
   "cell_type": "code",
   "execution_count": null,
   "metadata": {},
   "outputs": [],
   "source": [
    "!pip install split-folders "
   ]
  },
  {
   "cell_type": "code",
   "execution_count": 171,
   "metadata": {},
   "outputs": [
    {
     "data": {
      "application/vnd.jupyter.widget-view+json": {
       "model_id": "4a8157683b464689815d7a966fb10ae9",
       "version_major": 2,
       "version_minor": 0
      },
      "text/plain": [
       "HBox(children=(FloatProgress(value=0.0, max=47575.0), HTML(value='')))"
      ]
     },
     "metadata": {},
     "output_type": "display_data"
    },
    {
     "name": "stdout",
     "output_type": "stream",
     "text": [
      "\n"
     ]
    }
   ],
   "source": [
    "from pathlib import Path\n",
    "\n",
    "for index, row in tqdm(data.iterrows(),total=data.shape[0]):\n",
    "    folder = Path(f'./images/train/{row[\"class_id\"]}')\n",
    "\n",
    "    if not folder.is_dir():\n",
    "#         raise ValueError(f\"[{folder}] не существует или не является директорией\")\n",
    "        pass\n",
    "    else:\n",
    "        folder_counts = sum(1 for x in folder.iterdir())\n",
    "        if(folder_counts < 2):\n",
    "            shutil.rmtree(folder)"
   ]
  },
  {
   "cell_type": "code",
   "execution_count": 22,
   "metadata": {},
   "outputs": [
    {
     "name": "stderr",
     "output_type": "stream",
     "text": [
      "Copying files: 47284 files [06:15, 126.08 files/s]\n"
     ]
    }
   ],
   "source": [
    "import splitfolders\n",
    "\n",
    "input_folder = \"./images/train\"\n",
    "splitfolders.ratio(input_folder, 'train_test', ratio = (0.8, 0.2), seed=42, group_prefix=None)"
   ]
  },
  {
   "cell_type": "markdown",
   "metadata": {},
   "source": [
    "# чет другое"
   ]
  },
  {
   "cell_type": "code",
   "execution_count": 7,
   "metadata": {},
   "outputs": [
    {
     "data": {
      "text/html": [
       "<div>\n",
       "<style scoped>\n",
       "    .dataframe tbody tr th:only-of-type {\n",
       "        vertical-align: middle;\n",
       "    }\n",
       "\n",
       "    .dataframe tbody tr th {\n",
       "        vertical-align: top;\n",
       "    }\n",
       "\n",
       "    .dataframe thead th {\n",
       "        text-align: right;\n",
       "    }\n",
       "</style>\n",
       "<table border=\"1\" class=\"dataframe\">\n",
       "  <thead>\n",
       "    <tr style=\"text-align: right;\">\n",
       "      <th></th>\n",
       "      <th>image</th>\n",
       "      <th>right_id</th>\n",
       "    </tr>\n",
       "  </thead>\n",
       "  <tbody>\n",
       "    <tr>\n",
       "      <th>0</th>\n",
       "      <td>3kVLfN1tTupzPhFgWY0yeOnqoD6RwG57HlSMvBK4.jpg</td>\n",
       "      <td>1091</td>\n",
       "    </tr>\n",
       "    <tr>\n",
       "      <th>1</th>\n",
       "      <td>lKUEs3gWjhLm28vFCo6ruacX0JZyGkMNBwTHVbOR.jpg</td>\n",
       "      <td>1091</td>\n",
       "    </tr>\n",
       "    <tr>\n",
       "      <th>2</th>\n",
       "      <td>ruAzlwKWCjsiVtLY27fmkQUeEnGODb6RoMhpqPN8.jpg</td>\n",
       "      <td>1091</td>\n",
       "    </tr>\n",
       "    <tr>\n",
       "      <th>3</th>\n",
       "      <td>294rLQNFBShbpOIcHx5mwgu1RzyUnavW783D0KfT.jpg</td>\n",
       "      <td>1091</td>\n",
       "    </tr>\n",
       "    <tr>\n",
       "      <th>4</th>\n",
       "      <td>vYZzN9cmAg8wMuf5TxPUdGeOinWIDX6L7pSRh0J2.jpg</td>\n",
       "      <td>1091</td>\n",
       "    </tr>\n",
       "  </tbody>\n",
       "</table>\n",
       "</div>"
      ],
      "text/plain": [
       "                                          image  right_id\n",
       "0  3kVLfN1tTupzPhFgWY0yeOnqoD6RwG57HlSMvBK4.jpg      1091\n",
       "1  lKUEs3gWjhLm28vFCo6ruacX0JZyGkMNBwTHVbOR.jpg      1091\n",
       "2  ruAzlwKWCjsiVtLY27fmkQUeEnGODb6RoMhpqPN8.jpg      1091\n",
       "3  294rLQNFBShbpOIcHx5mwgu1RzyUnavW783D0KfT.jpg      1091\n",
       "4  vYZzN9cmAg8wMuf5TxPUdGeOinWIDX6L7pSRh0J2.jpg      1091"
      ]
     },
     "execution_count": 7,
     "metadata": {},
     "output_type": "execute_result"
    }
   ],
   "source": [
    "merged = pd.read_csv('merged.csv')\n",
    "merged = merged.drop(['Unnamed: 0','Unnamed: 0_x','class_id','Unnamed: 0_y','id','model'],axis=1)\n",
    "merged.head()"
   ]
  },
  {
   "cell_type": "code",
   "execution_count": 4,
   "metadata": {},
   "outputs": [
    {
     "data": {
      "text/html": [
       "<div>\n",
       "<style scoped>\n",
       "    .dataframe tbody tr th:only-of-type {\n",
       "        vertical-align: middle;\n",
       "    }\n",
       "\n",
       "    .dataframe tbody tr th {\n",
       "        vertical-align: top;\n",
       "    }\n",
       "\n",
       "    .dataframe thead th {\n",
       "        text-align: right;\n",
       "    }\n",
       "</style>\n",
       "<table border=\"1\" class=\"dataframe\">\n",
       "  <thead>\n",
       "    <tr style=\"text-align: right;\">\n",
       "      <th></th>\n",
       "      <th>Unnamed: 0</th>\n",
       "      <th>model</th>\n",
       "      <th>id</th>\n",
       "    </tr>\n",
       "  </thead>\n",
       "  <tbody>\n",
       "    <tr>\n",
       "      <th>0</th>\n",
       "      <td>0</td>\n",
       "      <td>new balance 574</td>\n",
       "      <td>4</td>\n",
       "    </tr>\n",
       "    <tr>\n",
       "      <th>1</th>\n",
       "      <td>1</td>\n",
       "      <td>new balance 327</td>\n",
       "      <td>5</td>\n",
       "    </tr>\n",
       "    <tr>\n",
       "      <th>2</th>\n",
       "      <td>2</td>\n",
       "      <td>new balance 990v4</td>\n",
       "      <td>21</td>\n",
       "    </tr>\n",
       "    <tr>\n",
       "      <th>3</th>\n",
       "      <td>3</td>\n",
       "      <td>new balance 237</td>\n",
       "      <td>24</td>\n",
       "    </tr>\n",
       "    <tr>\n",
       "      <th>4</th>\n",
       "      <td>4</td>\n",
       "      <td>new balance 373</td>\n",
       "      <td>25</td>\n",
       "    </tr>\n",
       "  </tbody>\n",
       "</table>\n",
       "</div>"
      ],
      "text/plain": [
       "   Unnamed: 0              model  id\n",
       "0           0    new balance 574   4\n",
       "1           1    new balance 327   5\n",
       "2           2  new balance 990v4  21\n",
       "3           3    new balance 237  24\n",
       "4           4    new balance 373  25"
      ]
     },
     "execution_count": 4,
     "metadata": {},
     "output_type": "execute_result"
    }
   ],
   "source": [
    "data = pd.read_csv('cleaned_data.csv')\n",
    "data.head()"
   ]
  },
  {
   "cell_type": "code",
   "execution_count": 6,
   "metadata": {},
   "outputs": [
    {
     "data": {
      "text/plain": [
       "0            new balance 574\n",
       "1            new balance 327\n",
       "2          new balance 990v4\n",
       "3            new balance 237\n",
       "4            new balance 373\n",
       "                ...         \n",
       "3840               puma rs2k\n",
       "3841       puma reboundlayup\n",
       "3842    puma muensterclassic\n",
       "3843            puma dayzero\n",
       "3844       puma strunnerv2sd\n",
       "Name: model, Length: 3845, dtype: object"
      ]
     },
     "execution_count": 6,
     "metadata": {},
     "output_type": "execute_result"
    }
   ],
   "source": [
    "models = data['model']\n",
    "models"
   ]
  },
  {
   "cell_type": "code",
   "execution_count": 9,
   "metadata": {},
   "outputs": [
    {
     "name": "stdout",
     "output_type": "stream",
     "text": [
      "0\n"
     ]
    }
   ],
   "source": [
    "from sklearn.metrics.pairwise import cosine_distances as cos_dis\n",
    "\n",
    "def levenstein(str_1, str_2):\n",
    "    n, m = len(str_1), len(str_2)\n",
    "    if n > m:\n",
    "        str_1, str_2 = str_2, str_1\n",
    "        n, m = m, n\n",
    "\n",
    "    current_row = range(n + 1)\n",
    "    for i in range(1, m + 1):\n",
    "        previous_row, current_row = current_row, [i] + [0] * n\n",
    "        for j in range(1, n + 1):\n",
    "            add, delete, change = previous_row[j] + 1, current_row[j - 1] + 1, previous_row[j - 1]\n",
    "            if str_1[j - 1] != str_2[i - 1]:\n",
    "                change += 1\n",
    "            current_row[j] = min(add, delete, change)\n",
    "\n",
    "    return current_row[n]"
   ]
  },
  {
   "cell_type": "code",
   "execution_count": 13,
   "metadata": {},
   "outputs": [],
   "source": [
    "models_lev = []\n",
    "for i in range(1,len(models)):\n",
    "    for j in range(i+1, len(models)):\n",
    "        models_lev.append([models[i],models[j],levenstein(models[i],models[j])])"
   ]
  },
  {
   "cell_type": "code",
   "execution_count": 15,
   "metadata": {},
   "outputs": [],
   "source": [
    "models_lev_1 = []\n",
    "for l in models_lev:\n",
    "    if l[2] <= 1:\n",
    "        models_lev_1.append(l)"
   ]
  },
  {
   "cell_type": "code",
   "execution_count": 19,
   "metadata": {},
   "outputs": [
    {
     "data": {
      "text/html": [
       "<div>\n",
       "<style scoped>\n",
       "    .dataframe tbody tr th:only-of-type {\n",
       "        vertical-align: middle;\n",
       "    }\n",
       "\n",
       "    .dataframe tbody tr th {\n",
       "        vertical-align: top;\n",
       "    }\n",
       "\n",
       "    .dataframe thead th {\n",
       "        text-align: right;\n",
       "    }\n",
       "</style>\n",
       "<table border=\"1\" class=\"dataframe\">\n",
       "  <thead>\n",
       "    <tr style=\"text-align: right;\">\n",
       "      <th></th>\n",
       "      <th>model1</th>\n",
       "      <th>model2</th>\n",
       "      <th>levenstein</th>\n",
       "    </tr>\n",
       "  </thead>\n",
       "  <tbody>\n",
       "    <tr>\n",
       "      <th>0</th>\n",
       "      <td>new balance 327</td>\n",
       "      <td>new balance 927</td>\n",
       "      <td>1</td>\n",
       "    </tr>\n",
       "    <tr>\n",
       "      <th>1</th>\n",
       "      <td>new balance 327</td>\n",
       "      <td>new balance 527</td>\n",
       "      <td>1</td>\n",
       "    </tr>\n",
       "    <tr>\n",
       "      <th>2</th>\n",
       "      <td>new balance 990v4</td>\n",
       "      <td>new balance 990v5</td>\n",
       "      <td>1</td>\n",
       "    </tr>\n",
       "    <tr>\n",
       "      <th>3</th>\n",
       "      <td>new balance 990v4</td>\n",
       "      <td>new balance 940v4</td>\n",
       "      <td>1</td>\n",
       "    </tr>\n",
       "    <tr>\n",
       "      <th>4</th>\n",
       "      <td>new balance 990v4</td>\n",
       "      <td>new balance 990v6</td>\n",
       "      <td>1</td>\n",
       "    </tr>\n",
       "  </tbody>\n",
       "</table>\n",
       "</div>"
      ],
      "text/plain": [
       "              model1             model2  levenstein\n",
       "0    new balance 327    new balance 927           1\n",
       "1    new balance 327    new balance 527           1\n",
       "2  new balance 990v4  new balance 990v5           1\n",
       "3  new balance 990v4  new balance 940v4           1\n",
       "4  new balance 990v4  new balance 990v6           1"
      ]
     },
     "execution_count": 19,
     "metadata": {},
     "output_type": "execute_result"
    }
   ],
   "source": [
    "df_lev = pd.DataFrame(models_lev_1, columns=['model1','model2','levenstein'])\n",
    "df_lev.head()"
   ]
  },
  {
   "cell_type": "code",
   "execution_count": 20,
   "metadata": {},
   "outputs": [],
   "source": [
    "df_lev.to_csv('models_levenstein.csv', index=False)"
   ]
  },
  {
   "cell_type": "code",
   "execution_count": 10,
   "metadata": {},
   "outputs": [
    {
     "data": {
      "application/vnd.jupyter.widget-view+json": {
       "model_id": "e18e9426cd5042fd8112f5f1eef92adf",
       "version_major": 2,
       "version_minor": 0
      },
      "text/plain": [
       "HBox(children=(FloatProgress(value=0.0, max=47561.0), HTML(value='')))"
      ]
     },
     "metadata": {},
     "output_type": "display_data"
    },
    {
     "name": "stdout",
     "output_type": "stream",
     "text": [
      "\n"
     ]
    }
   ],
   "source": [
    "\n",
    "# Путь к главной папке, содержащей все изображения\n",
    "main_folder_path = 'images/'\n",
    "\n",
    "# Создать папки для каждого класса, если они не существуют\n",
    "for class_name in merged['right_id'].unique():\n",
    "    class_folder_path = os.path.join(main_folder_path, str(class_name))\n",
    "    if not os.path.exists(class_folder_path):\n",
    "        os.makedirs(class_folder_path)\n",
    "\n",
    "SIZE_DELETE = 1000\n",
    "# Перенести каждую картинку из главной папки в папку класса, если она существует в DataFrame pandas\n",
    "for index, row in tqdm(merged.iterrows(),total=merged.shape[0]):\n",
    "    image_name = row['image']\n",
    "    class_name = row['right_id']\n",
    "    source_path = os.path.join(main_folder_path, image_name)\n",
    "    if os.path.getsize(source_path) < SIZE_DELETE:\n",
    "        os.remove(source_path)\n",
    "    else:\n",
    "        dest_folder_path = os.path.join(main_folder_path, str(class_name))\n",
    "        dest_path = os.path.join(dest_folder_path, image_name)\n",
    "        if os.path.exists(source_path):\n",
    "            shutil.move(source_path, dest_path)\n"
   ]
  },
  {
   "cell_type": "markdown",
   "metadata": {},
   "source": [
    "# возвращаем айдишки"
   ]
  },
  {
   "cell_type": "code",
   "execution_count": 2,
   "metadata": {},
   "outputs": [
    {
     "data": {
      "text/html": [
       "<div>\n",
       "<style scoped>\n",
       "    .dataframe tbody tr th:only-of-type {\n",
       "        vertical-align: middle;\n",
       "    }\n",
       "\n",
       "    .dataframe tbody tr th {\n",
       "        vertical-align: top;\n",
       "    }\n",
       "\n",
       "    .dataframe thead th {\n",
       "        text-align: right;\n",
       "    }\n",
       "</style>\n",
       "<table border=\"1\" class=\"dataframe\">\n",
       "  <thead>\n",
       "    <tr style=\"text-align: right;\">\n",
       "      <th></th>\n",
       "      <th>class_id</th>\n",
       "      <th>image</th>\n",
       "      <th>model</th>\n",
       "      <th>id</th>\n",
       "      <th>right_id</th>\n",
       "    </tr>\n",
       "  </thead>\n",
       "  <tbody>\n",
       "    <tr>\n",
       "      <th>0</th>\n",
       "      <td>1221</td>\n",
       "      <td>3kVLfN1tTupzPhFgWY0yeOnqoD6RwG57HlSMvBK4.jpg</td>\n",
       "      <td>reebok reebokclassic</td>\n",
       "      <td>1221</td>\n",
       "      <td>1091</td>\n",
       "    </tr>\n",
       "    <tr>\n",
       "      <th>1</th>\n",
       "      <td>1221</td>\n",
       "      <td>lKUEs3gWjhLm28vFCo6ruacX0JZyGkMNBwTHVbOR.jpg</td>\n",
       "      <td>reebok reebokclassic</td>\n",
       "      <td>1221</td>\n",
       "      <td>1091</td>\n",
       "    </tr>\n",
       "    <tr>\n",
       "      <th>2</th>\n",
       "      <td>1221</td>\n",
       "      <td>ruAzlwKWCjsiVtLY27fmkQUeEnGODb6RoMhpqPN8.jpg</td>\n",
       "      <td>reebok reebokclassic</td>\n",
       "      <td>1221</td>\n",
       "      <td>1091</td>\n",
       "    </tr>\n",
       "    <tr>\n",
       "      <th>3</th>\n",
       "      <td>1221</td>\n",
       "      <td>294rLQNFBShbpOIcHx5mwgu1RzyUnavW783D0KfT.jpg</td>\n",
       "      <td>reebok reebokclassic</td>\n",
       "      <td>1221</td>\n",
       "      <td>1091</td>\n",
       "    </tr>\n",
       "    <tr>\n",
       "      <th>4</th>\n",
       "      <td>1221</td>\n",
       "      <td>vYZzN9cmAg8wMuf5TxPUdGeOinWIDX6L7pSRh0J2.jpg</td>\n",
       "      <td>reebok reebokclassic</td>\n",
       "      <td>1221</td>\n",
       "      <td>1091</td>\n",
       "    </tr>\n",
       "  </tbody>\n",
       "</table>\n",
       "</div>"
      ],
      "text/plain": [
       "   class_id                                         image  \\\n",
       "0      1221  3kVLfN1tTupzPhFgWY0yeOnqoD6RwG57HlSMvBK4.jpg   \n",
       "1      1221  lKUEs3gWjhLm28vFCo6ruacX0JZyGkMNBwTHVbOR.jpg   \n",
       "2      1221  ruAzlwKWCjsiVtLY27fmkQUeEnGODb6RoMhpqPN8.jpg   \n",
       "3      1221  294rLQNFBShbpOIcHx5mwgu1RzyUnavW783D0KfT.jpg   \n",
       "4      1221  vYZzN9cmAg8wMuf5TxPUdGeOinWIDX6L7pSRh0J2.jpg   \n",
       "\n",
       "                  model    id  right_id  \n",
       "0  reebok reebokclassic  1221      1091  \n",
       "1  reebok reebokclassic  1221      1091  \n",
       "2  reebok reebokclassic  1221      1091  \n",
       "3  reebok reebokclassic  1221      1091  \n",
       "4  reebok reebokclassic  1221      1091  "
      ]
     },
     "execution_count": 2,
     "metadata": {},
     "output_type": "execute_result"
    }
   ],
   "source": [
    "merged = pd.read_csv('merged.csv')\n",
    "merged = merged.drop(['Unnamed: 0', 'Unnamed: 0_x', 'Unnamed: 0_y'], axis = 1)\n",
    "merged.head()"
   ]
  },
  {
   "cell_type": "code",
   "execution_count": 3,
   "metadata": {},
   "outputs": [],
   "source": [
    "ids = merged['id'].unique()\n",
    "right_ids = merged['right_id'].unique()"
   ]
  },
  {
   "cell_type": "code",
   "execution_count": 4,
   "metadata": {},
   "outputs": [],
   "source": [
    "ids_rights = dict()\n",
    "for i in range(len(ids)):\n",
    "    ids_rights[right_ids[i]] = ids[i]"
   ]
  },
  {
   "cell_type": "code",
   "execution_count": 5,
   "metadata": {},
   "outputs": [
    {
     "data": {
      "text/html": [
       "<div>\n",
       "<style scoped>\n",
       "    .dataframe tbody tr th:only-of-type {\n",
       "        vertical-align: middle;\n",
       "    }\n",
       "\n",
       "    .dataframe tbody tr th {\n",
       "        vertical-align: top;\n",
       "    }\n",
       "\n",
       "    .dataframe thead th {\n",
       "        text-align: right;\n",
       "    }\n",
       "</style>\n",
       "<table border=\"1\" class=\"dataframe\">\n",
       "  <thead>\n",
       "    <tr style=\"text-align: right;\">\n",
       "      <th></th>\n",
       "      <th>class_id</th>\n",
       "      <th>image</th>\n",
       "    </tr>\n",
       "  </thead>\n",
       "  <tbody>\n",
       "    <tr>\n",
       "      <th>0</th>\n",
       "      <td>3500</td>\n",
       "      <td>mwiNS62kZXUEJARdf3rxCpI0VztLO1B7guKTDGMj.jpg</td>\n",
       "    </tr>\n",
       "    <tr>\n",
       "      <th>1</th>\n",
       "      <td>3554</td>\n",
       "      <td>Dvtu5QLrVFq0JxjlcgmK94n3SC68iAphHXoBfzYM.jpg</td>\n",
       "    </tr>\n",
       "    <tr>\n",
       "      <th>2</th>\n",
       "      <td>1902</td>\n",
       "      <td>mldYZ9OiXh5P0ERHNcKLp78SbMtfkBx2rwJeszoa.jpg</td>\n",
       "    </tr>\n",
       "    <tr>\n",
       "      <th>3</th>\n",
       "      <td>1</td>\n",
       "      <td>tZaCF4XK2hPLTlW8YRdAnMD5mfSxzBujwVpUJ7b0.jpg</td>\n",
       "    </tr>\n",
       "    <tr>\n",
       "      <th>4</th>\n",
       "      <td>3339</td>\n",
       "      <td>73gEZNzIV9SLcf14wkrTYUoHJOMuDetsvihP0mAq.jpg</td>\n",
       "    </tr>\n",
       "  </tbody>\n",
       "</table>\n",
       "</div>"
      ],
      "text/plain": [
       "   class_id                                         image\n",
       "0      3500  mwiNS62kZXUEJARdf3rxCpI0VztLO1B7guKTDGMj.jpg\n",
       "1      3554  Dvtu5QLrVFq0JxjlcgmK94n3SC68iAphHXoBfzYM.jpg\n",
       "2      1902  mldYZ9OiXh5P0ERHNcKLp78SbMtfkBx2rwJeszoa.jpg\n",
       "3         1  tZaCF4XK2hPLTlW8YRdAnMD5mfSxzBujwVpUJ7b0.jpg\n",
       "4      3339  73gEZNzIV9SLcf14wkrTYUoHJOMuDetsvihP0mAq.jpg"
      ]
     },
     "execution_count": 5,
     "metadata": {},
     "output_type": "execute_result"
    }
   ],
   "source": [
    "subm = pd.read_csv('submit (4).csv')\n",
    "subm.head()"
   ]
  },
  {
   "cell_type": "code",
   "execution_count": 6,
   "metadata": {},
   "outputs": [],
   "source": [
    "def replace_id(id):\n",
    "    return ids_rights[id]"
   ]
  },
  {
   "cell_type": "code",
   "execution_count": 7,
   "metadata": {},
   "outputs": [],
   "source": [
    "new_subm = pd.read_csv('submit (4).csv')"
   ]
  },
  {
   "cell_type": "code",
   "execution_count": 8,
   "metadata": {},
   "outputs": [],
   "source": [
    "new_subm['class_id'] = subm['class_id'].apply(replace_id)"
   ]
  },
  {
   "cell_type": "code",
   "execution_count": 9,
   "metadata": {},
   "outputs": [
    {
     "data": {
      "text/html": [
       "<div>\n",
       "<style scoped>\n",
       "    .dataframe tbody tr th:only-of-type {\n",
       "        vertical-align: middle;\n",
       "    }\n",
       "\n",
       "    .dataframe tbody tr th {\n",
       "        vertical-align: top;\n",
       "    }\n",
       "\n",
       "    .dataframe thead th {\n",
       "        text-align: right;\n",
       "    }\n",
       "</style>\n",
       "<table border=\"1\" class=\"dataframe\">\n",
       "  <thead>\n",
       "    <tr style=\"text-align: right;\">\n",
       "      <th></th>\n",
       "      <th>class_id</th>\n",
       "      <th>image</th>\n",
       "    </tr>\n",
       "  </thead>\n",
       "  <tbody>\n",
       "    <tr>\n",
       "      <th>0</th>\n",
       "      <td>4006</td>\n",
       "      <td>mwiNS62kZXUEJARdf3rxCpI0VztLO1B7guKTDGMj.jpg</td>\n",
       "    </tr>\n",
       "    <tr>\n",
       "      <th>1</th>\n",
       "      <td>4065</td>\n",
       "      <td>Dvtu5QLrVFq0JxjlcgmK94n3SC68iAphHXoBfzYM.jpg</td>\n",
       "    </tr>\n",
       "    <tr>\n",
       "      <th>2</th>\n",
       "      <td>2153</td>\n",
       "      <td>mldYZ9OiXh5P0ERHNcKLp78SbMtfkBx2rwJeszoa.jpg</td>\n",
       "    </tr>\n",
       "    <tr>\n",
       "      <th>3</th>\n",
       "      <td>4</td>\n",
       "      <td>tZaCF4XK2hPLTlW8YRdAnMD5mfSxzBujwVpUJ7b0.jpg</td>\n",
       "    </tr>\n",
       "    <tr>\n",
       "      <th>4</th>\n",
       "      <td>3814</td>\n",
       "      <td>73gEZNzIV9SLcf14wkrTYUoHJOMuDetsvihP0mAq.jpg</td>\n",
       "    </tr>\n",
       "    <tr>\n",
       "      <th>...</th>\n",
       "      <td>...</td>\n",
       "      <td>...</td>\n",
       "    </tr>\n",
       "    <tr>\n",
       "      <th>31713</th>\n",
       "      <td>3826</td>\n",
       "      <td>RngzptsIy9bHYMEq32Cx5lDN01uXedfimoTackGP.jpg</td>\n",
       "    </tr>\n",
       "    <tr>\n",
       "      <th>31714</th>\n",
       "      <td>3814</td>\n",
       "      <td>nDqGbFxgpfvJ2A43Z5r6VRXywTHaP7MelEBt8zi0.jpg</td>\n",
       "    </tr>\n",
       "    <tr>\n",
       "      <th>31715</th>\n",
       "      <td>3814</td>\n",
       "      <td>2RABe1VqCD35sItMiKwcb6kr9olXaxW4PfQ8hNJH.jpg</td>\n",
       "    </tr>\n",
       "    <tr>\n",
       "      <th>31716</th>\n",
       "      <td>3814</td>\n",
       "      <td>zcbPK2lH70qAkJfiQZrSDLxe5gYyEB9Uv4jNTMXF.jpg</td>\n",
       "    </tr>\n",
       "    <tr>\n",
       "      <th>31717</th>\n",
       "      <td>3842</td>\n",
       "      <td>Zow4Mjt9bTm36vQS1AGWRhIPEig5cnNe8zOrYxkD.jpg</td>\n",
       "    </tr>\n",
       "  </tbody>\n",
       "</table>\n",
       "<p>31718 rows × 2 columns</p>\n",
       "</div>"
      ],
      "text/plain": [
       "       class_id                                         image\n",
       "0          4006  mwiNS62kZXUEJARdf3rxCpI0VztLO1B7guKTDGMj.jpg\n",
       "1          4065  Dvtu5QLrVFq0JxjlcgmK94n3SC68iAphHXoBfzYM.jpg\n",
       "2          2153  mldYZ9OiXh5P0ERHNcKLp78SbMtfkBx2rwJeszoa.jpg\n",
       "3             4  tZaCF4XK2hPLTlW8YRdAnMD5mfSxzBujwVpUJ7b0.jpg\n",
       "4          3814  73gEZNzIV9SLcf14wkrTYUoHJOMuDetsvihP0mAq.jpg\n",
       "...         ...                                           ...\n",
       "31713      3826  RngzptsIy9bHYMEq32Cx5lDN01uXedfimoTackGP.jpg\n",
       "31714      3814  nDqGbFxgpfvJ2A43Z5r6VRXywTHaP7MelEBt8zi0.jpg\n",
       "31715      3814  2RABe1VqCD35sItMiKwcb6kr9olXaxW4PfQ8hNJH.jpg\n",
       "31716      3814  zcbPK2lH70qAkJfiQZrSDLxe5gYyEB9Uv4jNTMXF.jpg\n",
       "31717      3842  Zow4Mjt9bTm36vQS1AGWRhIPEig5cnNe8zOrYxkD.jpg\n",
       "\n",
       "[31718 rows x 2 columns]"
      ]
     },
     "execution_count": 9,
     "metadata": {},
     "output_type": "execute_result"
    }
   ],
   "source": [
    "new_subm"
   ]
  },
  {
   "cell_type": "code",
   "execution_count": 10,
   "metadata": {},
   "outputs": [],
   "source": [
    "new_subm.to_csv('submit_new.csv', index=False)"
   ]
  },
  {
   "cell_type": "code",
   "execution_count": null,
   "metadata": {},
   "outputs": [],
   "source": []
  }
 ],
 "metadata": {
  "kernelspec": {
   "display_name": "Python 3",
   "language": "python",
   "name": "python3"
  },
  "language_info": {
   "codemirror_mode": {
    "name": "ipython",
    "version": 3
   },
   "file_extension": ".py",
   "mimetype": "text/x-python",
   "name": "python",
   "nbconvert_exporter": "python",
   "pygments_lexer": "ipython3",
   "version": "3.8.3"
  }
 },
 "nbformat": 4,
 "nbformat_minor": 4
}
